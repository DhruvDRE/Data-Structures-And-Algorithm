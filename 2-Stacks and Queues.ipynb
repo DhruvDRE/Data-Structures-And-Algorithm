{
 "cells": [
  {
   "cell_type": "markdown",
   "metadata": {},
   "source": [
    "#  Stack\n",
    "\n",
    "Abstract data type with the following operations\n",
    "\n",
    "1 Push(key) - Add key to collection\n",
    "2 Key Top() : Returns the most recently added key\n",
    "3 Key Pop() : Removes and return most recently added key\n",
    "4 Boolean Empty() : Check the stack is empty or not?\n",
    "\n",
    "# Balanced Brackets\n",
    "\n",
    "    input: A string str consisting of '(' ,')' ,'[',']' Characters\n",
    "    output: Return whether or not the string parentheses and square brackets are balanced\n",
    "    \n",
    "    In checking these parenthese STACK is a good option\n",
    "    \n",
    "Code:\n",
    "\n",
    "used in compilers and alogos"
   ]
  },
  {
   "cell_type": "code",
   "execution_count": null,
   "metadata": {},
   "outputs": [],
   "source": [
    "strin='((][]))'\n",
    "#Stack stack\n",
    "stack=[]\n",
    "for char in strin:\n",
    "    if char in ['(','[']:\n",
    "        stack.Push(char)\n",
    "    else:\n",
    "        if stack.Empty():\n",
    "            return False\n",
    "        top<- stack.Pop()\n",
    "        if (top= '[' and char != ']') or(top='(' and char !=')'):\n",
    "            return False\n",
    "return stack.Empty()\n"
   ]
  },
  {
   "cell_type": "markdown",
   "metadata": {},
   "source": [
    "#  Stack Implementation with Array\n",
    "almost all aplications are order 1\n",
    "\n",
    "we can easily add elements by push and remove them by pop the empty function states the stack empty or not \n",
    "\n",
    "problem - we can work with only defined space on initialization or if we give a large space alocation then we are wasting the additional memory\n",
    "# stack implemented with linked list\n",
    "\n",
    "there the pushes will be turned into pushfront on the contrary to the arrays where the element shift to next position \n",
    "\n",
    "here if we do top() then it will return B and in array will return B cause it does push back.\n",
    "Similarly it will be Top Front()\n",
    "\n",
    "Here there is no limit on element count but there is a limit to storage of a pointer head as well but no damage caused by unused spaces or larger allocation\n",
    "\n",
    "Its better\n",
    "\n",
    "# Summary:\n",
    "\n",
    "it can be worked with both linked list and arrays\n",
    "\n",
    "Each stack operation is O(1) : Push , Pop ,Top ,Empty\n",
    "\n",
    "Stacks are Also known as LIFO {last in First Out} queues\n",
    "\n"
   ]
  },
  {
   "cell_type": "markdown",
   "metadata": {},
   "source": [
    "#  Queues\n",
    "\n",
    "Abstract data type with the following operations\n",
    "\n",
    "1 Enqueue(key) : Adds key to the collection - it uses list PushBack call\n",
    "2 Key Dequeue() : Removes and returns the least recently added key - it uses lists TopFront call to know the first element and then List PopFront to remove the front element\n",
    "\n",
    "unlike stack , they serve on First in First Out {FIFO} basis like the bit entered first will be given higher priority than the recently added one\n",
    "\n",
    "3 Boolean Empty(): Are there any elements?\n",
    "\n",
    "# Queue implementation with linked list\n",
    "\n",
    "If we Enqueue(ele) it wil be added in the list then the next element to be enqueue will be added back of that element which was previously added. So till now we have implemented 3 enqueue\n",
    "\n",
    "then elements will be \n",
    "a --- b --- c\n",
    "\n",
    "if we dequeue now then the element that will be removed would be the A cause that has been the longest in the queue unlike stacks if we pop in stack then it would have removed C.\n",
    "\n",
    "# Queue Implementation with Array\n",
    "\n",
    "Here dequeing will be expensive\n",
    "\n",
    "here we have read and write index to make it simpler for us \n",
    "\n",
    "for dequing we will remove from read index and increment the index to get to next element\n",
    "\n",
    "There is An error if the read index and the write index coincide so keep that in mind the element wont be added\n",
    "\n",
    "There will be one element buffer but this error wont be there in dequeueing only for enqueuing\n",
    "\n",
    "# Summary\n",
    "\n",
    "Queues can be implemented with either a linked list (with tail) or an array\n",
    "\n",
    "Each Queue operations is O(1) : Enqueue, Dequeue , empty\n",
    "\n",
    "Used arrays only if we know the amount of numbers required\n",
    "\n"
   ]
  }
 ],
 "metadata": {
  "kernelspec": {
   "display_name": "Python 3",
   "language": "python",
   "name": "python3"
  },
  "language_info": {
   "codemirror_mode": {
    "name": "ipython",
    "version": 3
   },
   "file_extension": ".py",
   "mimetype": "text/x-python",
   "name": "python",
   "nbconvert_exporter": "python",
   "pygments_lexer": "ipython3",
   "version": "3.7.4"
  }
 },
 "nbformat": 4,
 "nbformat_minor": 2
}
